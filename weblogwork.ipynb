{
 "cells": [
  {
   "cell_type": "code",
   "execution_count": 1,
   "metadata": {
    "_cell_guid": "b1076dfc-b9ad-4769-8c92-a6c4dae69d19",
    "_uuid": "8f2839f25d086af736a60e9eeb907d3b93b6e0e5",
    "execution": {
     "iopub.execute_input": "2023-04-19T17:21:13.291905Z",
     "iopub.status.busy": "2023-04-19T17:21:13.291129Z",
     "iopub.status.idle": "2023-04-19T17:21:13.329851Z",
     "shell.execute_reply": "2023-04-19T17:21:13.328789Z",
     "shell.execute_reply.started": "2023-04-19T17:21:13.291856Z"
    }
   },
   "outputs": [],
   "source": [
    "import pandas as pd\n",
    "import re\n",
    "import os\n",
    "import time\n",
    "import gc\n",
    "from tqdm import tqdm"
   ]
  },
  {
   "cell_type": "code",
   "execution_count": 2,
   "metadata": {
    "execution": {
     "iopub.execute_input": "2023-04-19T07:32:12.663105Z",
     "iopub.status.busy": "2023-04-19T07:32:12.662752Z",
     "iopub.status.idle": "2023-04-19T07:33:32.150651Z",
     "shell.execute_reply": "2023-04-19T07:33:32.149435Z",
     "shell.execute_reply.started": "2023-04-19T07:32:12.663072Z"
    }
   },
   "outputs": [],
   "source": [
    "#parsing log files\n",
    "data_arr = []\n",
    "errors_file = 'errors123.txt'\n",
    "with open('../input/web-server-access-logs/access.log') as log:\n",
    "    for line in log.readlines():\n",
    "        match = re.match(r'^(?P<client>\\S+) \\S+ (?P<userid>\\S+) \\[(?P<datetime>[^\\]]+)\\] \"(?P<method>[A-Z]+) (?P<request>[^ \"]+)? HTTP/[0-9.]+\" (?P<status>[0-9]{3}) (?P<size>[0-9]+|-) \"(?P<referrer>[^\"]*)\" \"(?P<useragent>[^\"]*)', line)\n",
    "        if match:\n",
    "            data_arr.append([match.group(1), match.group(3), match.group(4), match.group(5), match.group(6), match.group(7), match.group(8), match.group(9)])\n",
    "        else:\n",
    "            with open(errors_file, 'at') as errfile:\n",
    "                print((line), file=errfile)\n",
    "df = pd.DataFrame(data_arr, columns=['ip_address', 'datetime', 'request_type', 'request', 'status', 'size', 'referer', 'user_agent'])"
   ]
  },
  {
   "cell_type": "code",
   "execution_count": null,
   "metadata": {},
   "outputs": [],
   "source": [
    "#formatting for datetime\n",
    "df['datetime'] = pd.to_datetime(df['datetime'], format='%d/%b/%Y:%H:%M:%S %z')\n",
    "df['status'] = df['status'].astype('int16')\n",
    "df['size'] = df['size'].astype('int32')"
   ]
  },
  {
   "cell_type": "code",
   "execution_count": 3,
   "metadata": {
    "execution": {
     "iopub.execute_input": "2023-04-19T07:33:32.152525Z",
     "iopub.status.busy": "2023-04-19T07:33:32.152138Z",
     "iopub.status.idle": "2023-04-19T07:33:32.190461Z",
     "shell.execute_reply": "2023-04-19T07:33:32.189396Z",
     "shell.execute_reply.started": "2023-04-19T07:33:32.152490Z"
    }
   },
   "outputs": [
    {
     "data": {
      "text/html": [
       "<div>\n",
       "<style scoped>\n",
       "    .dataframe tbody tr th:only-of-type {\n",
       "        vertical-align: middle;\n",
       "    }\n",
       "\n",
       "    .dataframe tbody tr th {\n",
       "        vertical-align: top;\n",
       "    }\n",
       "\n",
       "    .dataframe thead th {\n",
       "        text-align: right;\n",
       "    }\n",
       "</style>\n",
       "<table border=\"1\" class=\"dataframe\">\n",
       "  <thead>\n",
       "    <tr style=\"text-align: right;\">\n",
       "      <th></th>\n",
       "      <th>ip_address</th>\n",
       "      <th>datetime</th>\n",
       "      <th>request_type</th>\n",
       "      <th>request</th>\n",
       "      <th>status</th>\n",
       "      <th>size</th>\n",
       "      <th>referer</th>\n",
       "      <th>user_agent</th>\n",
       "    </tr>\n",
       "  </thead>\n",
       "  <tbody>\n",
       "    <tr>\n",
       "      <th>0</th>\n",
       "      <td>54.36.149.41</td>\n",
       "      <td>2019-01-22 03:56:14+03:30</td>\n",
       "      <td>GET</td>\n",
       "      <td>/filter/27|13%20%D9%85%DA%AF%D8%A7%D9%BE%DB%8C...</td>\n",
       "      <td>200</td>\n",
       "      <td>30577</td>\n",
       "      <td>-</td>\n",
       "      <td>Mozilla/5.0 (compatible; AhrefsBot/6.1; +http:...</td>\n",
       "    </tr>\n",
       "    <tr>\n",
       "      <th>1</th>\n",
       "      <td>31.56.96.51</td>\n",
       "      <td>2019-01-22 03:56:16+03:30</td>\n",
       "      <td>GET</td>\n",
       "      <td>/image/60844/productModel/200x200</td>\n",
       "      <td>200</td>\n",
       "      <td>5667</td>\n",
       "      <td>https://www.zanbil.ir/m/filter/b113</td>\n",
       "      <td>Mozilla/5.0 (Linux; Android 6.0; ALE-L21 Build...</td>\n",
       "    </tr>\n",
       "    <tr>\n",
       "      <th>2</th>\n",
       "      <td>31.56.96.51</td>\n",
       "      <td>2019-01-22 03:56:16+03:30</td>\n",
       "      <td>GET</td>\n",
       "      <td>/image/61474/productModel/200x200</td>\n",
       "      <td>200</td>\n",
       "      <td>5379</td>\n",
       "      <td>https://www.zanbil.ir/m/filter/b113</td>\n",
       "      <td>Mozilla/5.0 (Linux; Android 6.0; ALE-L21 Build...</td>\n",
       "    </tr>\n",
       "    <tr>\n",
       "      <th>3</th>\n",
       "      <td>40.77.167.129</td>\n",
       "      <td>2019-01-22 03:56:17+03:30</td>\n",
       "      <td>GET</td>\n",
       "      <td>/image/14925/productModel/100x100</td>\n",
       "      <td>200</td>\n",
       "      <td>1696</td>\n",
       "      <td>-</td>\n",
       "      <td>Mozilla/5.0 (compatible; bingbot/2.0; +http://...</td>\n",
       "    </tr>\n",
       "    <tr>\n",
       "      <th>4</th>\n",
       "      <td>91.99.72.15</td>\n",
       "      <td>2019-01-22 03:56:17+03:30</td>\n",
       "      <td>GET</td>\n",
       "      <td>/product/31893/62100/%D8%B3%D8%B4%D9%88%D8%A7%...</td>\n",
       "      <td>200</td>\n",
       "      <td>41483</td>\n",
       "      <td>-</td>\n",
       "      <td>Mozilla/5.0 (Windows NT 6.2; Win64; x64; rv:16...</td>\n",
       "    </tr>\n",
       "    <tr>\n",
       "      <th>...</th>\n",
       "      <td>...</td>\n",
       "      <td>...</td>\n",
       "      <td>...</td>\n",
       "      <td>...</td>\n",
       "      <td>...</td>\n",
       "      <td>...</td>\n",
       "      <td>...</td>\n",
       "      <td>...</td>\n",
       "    </tr>\n",
       "    <tr>\n",
       "      <th>10364860</th>\n",
       "      <td>188.229.21.56</td>\n",
       "      <td>2019-01-26 20:29:13+03:30</td>\n",
       "      <td>GET</td>\n",
       "      <td>/content/view/shoppingRules</td>\n",
       "      <td>302</td>\n",
       "      <td>0</td>\n",
       "      <td>https://www.zanbil.ir/m/product/32106/62372/%D...</td>\n",
       "      <td>Mozilla/5.0 (Linux; Android 7.0; SM-N920C Buil...</td>\n",
       "    </tr>\n",
       "    <tr>\n",
       "      <th>10364861</th>\n",
       "      <td>5.127.220.71</td>\n",
       "      <td>2019-01-26 20:29:13+03:30</td>\n",
       "      <td>GET</td>\n",
       "      <td>/apple-touch-icon-120x120.png</td>\n",
       "      <td>404</td>\n",
       "      <td>32420</td>\n",
       "      <td>-</td>\n",
       "      <td>MobileSafari/604.1 CFNetwork/976 Darwin/18.2.0</td>\n",
       "    </tr>\n",
       "    <tr>\n",
       "      <th>10364862</th>\n",
       "      <td>5.213.7.50</td>\n",
       "      <td>2019-01-26 20:29:13+03:30</td>\n",
       "      <td>GET</td>\n",
       "      <td>/m/product/18962/%D8%BA%D8%B0%D8%A7-%D8%B3%D8%...</td>\n",
       "      <td>200</td>\n",
       "      <td>20959</td>\n",
       "      <td>https://www.google.com/</td>\n",
       "      <td>Mozilla/5.0 (iPhone; CPU iPhone OS 10_2_1 like...</td>\n",
       "    </tr>\n",
       "    <tr>\n",
       "      <th>10364863</th>\n",
       "      <td>109.125.169.52</td>\n",
       "      <td>2019-01-26 20:29:13+03:30</td>\n",
       "      <td>GET</td>\n",
       "      <td>/image/%7B%7BbasketItem.id%7D%7D?type=productM...</td>\n",
       "      <td>200</td>\n",
       "      <td>5</td>\n",
       "      <td>https://www.zanbil.ir/</td>\n",
       "      <td>Mozilla/5.0 (Windows NT 6.1; rv:64.0) Gecko/20...</td>\n",
       "    </tr>\n",
       "    <tr>\n",
       "      <th>10364864</th>\n",
       "      <td>37.129.59.160</td>\n",
       "      <td>2019-01-26 20:29:13+03:30</td>\n",
       "      <td>GET</td>\n",
       "      <td>/basket/view</td>\n",
       "      <td>200</td>\n",
       "      <td>17299</td>\n",
       "      <td>https://www-zanbil-ir.cdn.ampproject.org/v/s/w...</td>\n",
       "      <td>Mozilla/5.0 (Linux; Android 6.0.1; D6633 Build...</td>\n",
       "    </tr>\n",
       "  </tbody>\n",
       "</table>\n",
       "<p>10364865 rows × 8 columns</p>\n",
       "</div>"
      ],
      "text/plain": [
       "              ip_address                   datetime request_type  \\\n",
       "0           54.36.149.41  2019-01-22 03:56:14+03:30          GET   \n",
       "1            31.56.96.51  2019-01-22 03:56:16+03:30          GET   \n",
       "2            31.56.96.51  2019-01-22 03:56:16+03:30          GET   \n",
       "3          40.77.167.129  2019-01-22 03:56:17+03:30          GET   \n",
       "4            91.99.72.15  2019-01-22 03:56:17+03:30          GET   \n",
       "...                  ...                        ...          ...   \n",
       "10364860   188.229.21.56  2019-01-26 20:29:13+03:30          GET   \n",
       "10364861    5.127.220.71  2019-01-26 20:29:13+03:30          GET   \n",
       "10364862      5.213.7.50  2019-01-26 20:29:13+03:30          GET   \n",
       "10364863  109.125.169.52  2019-01-26 20:29:13+03:30          GET   \n",
       "10364864   37.129.59.160  2019-01-26 20:29:13+03:30          GET   \n",
       "\n",
       "                                                    request  status   size  \\\n",
       "0         /filter/27|13%20%D9%85%DA%AF%D8%A7%D9%BE%DB%8C...     200  30577   \n",
       "1                         /image/60844/productModel/200x200     200   5667   \n",
       "2                         /image/61474/productModel/200x200     200   5379   \n",
       "3                         /image/14925/productModel/100x100     200   1696   \n",
       "4         /product/31893/62100/%D8%B3%D8%B4%D9%88%D8%A7%...     200  41483   \n",
       "...                                                     ...     ...    ...   \n",
       "10364860                        /content/view/shoppingRules     302      0   \n",
       "10364861                      /apple-touch-icon-120x120.png     404  32420   \n",
       "10364862  /m/product/18962/%D8%BA%D8%B0%D8%A7-%D8%B3%D8%...     200  20959   \n",
       "10364863  /image/%7B%7BbasketItem.id%7D%7D?type=productM...     200      5   \n",
       "10364864                                       /basket/view     200  17299   \n",
       "\n",
       "                                                    referer  \\\n",
       "0                                                         -   \n",
       "1                       https://www.zanbil.ir/m/filter/b113   \n",
       "2                       https://www.zanbil.ir/m/filter/b113   \n",
       "3                                                         -   \n",
       "4                                                         -   \n",
       "...                                                     ...   \n",
       "10364860  https://www.zanbil.ir/m/product/32106/62372/%D...   \n",
       "10364861                                                  -   \n",
       "10364862                            https://www.google.com/   \n",
       "10364863                             https://www.zanbil.ir/   \n",
       "10364864  https://www-zanbil-ir.cdn.ampproject.org/v/s/w...   \n",
       "\n",
       "                                                 user_agent  \n",
       "0         Mozilla/5.0 (compatible; AhrefsBot/6.1; +http:...  \n",
       "1         Mozilla/5.0 (Linux; Android 6.0; ALE-L21 Build...  \n",
       "2         Mozilla/5.0 (Linux; Android 6.0; ALE-L21 Build...  \n",
       "3         Mozilla/5.0 (compatible; bingbot/2.0; +http://...  \n",
       "4         Mozilla/5.0 (Windows NT 6.2; Win64; x64; rv:16...  \n",
       "...                                                     ...  \n",
       "10364860  Mozilla/5.0 (Linux; Android 7.0; SM-N920C Buil...  \n",
       "10364861     MobileSafari/604.1 CFNetwork/976 Darwin/18.2.0  \n",
       "10364862  Mozilla/5.0 (iPhone; CPU iPhone OS 10_2_1 like...  \n",
       "10364863  Mozilla/5.0 (Windows NT 6.1; rv:64.0) Gecko/20...  \n",
       "10364864  Mozilla/5.0 (Linux; Android 6.0.1; D6633 Build...  \n",
       "\n",
       "[10364865 rows x 8 columns]"
      ]
     },
     "execution_count": 3,
     "metadata": {},
     "output_type": "execute_result"
    }
   ],
   "source": [
    "df"
   ]
  },
  {
   "cell_type": "code",
   "execution_count": 4,
   "metadata": {
    "execution": {
     "iopub.execute_input": "2023-04-19T07:33:32.193096Z",
     "iopub.status.busy": "2023-04-19T07:33:32.192725Z",
     "iopub.status.idle": "2023-04-19T07:33:46.350606Z",
     "shell.execute_reply": "2023-04-19T07:33:46.349463Z",
     "shell.execute_reply.started": "2023-04-19T07:33:32.193063Z"
    }
   },
   "outputs": [],
   "source": [
    "#keeping count of user agents\n",
    "df['GoogleBot'] = df['user_agent'].apply(lambda x: 1 if str(x).find(\"Googlebot\")>=0 else 0)\n",
    "df['BingBot'] = df['user_agent'].apply(lambda x: 1 if str(x).find(\"bingbot\")>=0 else 0)"
   ]
  },
  {
   "cell_type": "code",
   "execution_count": 5,
   "metadata": {
    "execution": {
     "iopub.execute_input": "2023-04-19T07:33:46.352403Z",
     "iopub.status.busy": "2023-04-19T07:33:46.352046Z",
     "iopub.status.idle": "2023-04-19T07:33:54.599830Z",
     "shell.execute_reply": "2023-04-19T07:33:54.598792Z",
     "shell.execute_reply.started": "2023-04-19T07:33:46.352370Z"
    }
   },
   "outputs": [],
   "source": [
    "df=df.sort_values(by=['datetime'])"
   ]
  },
  {
   "cell_type": "code",
   "execution_count": 6,
   "metadata": {
    "execution": {
     "iopub.execute_input": "2023-04-19T07:33:54.601703Z",
     "iopub.status.busy": "2023-04-19T07:33:54.601271Z",
     "iopub.status.idle": "2023-04-19T07:33:54.619061Z",
     "shell.execute_reply": "2023-04-19T07:33:54.617881Z",
     "shell.execute_reply.started": "2023-04-19T07:33:54.601658Z"
    }
   },
   "outputs": [],
   "source": [
    "from pathlib import Path\n",
    "import plotly.graph_objs as go"
   ]
  },
  {
   "cell_type": "code",
   "execution_count": 7,
   "metadata": {
    "execution": {
     "iopub.execute_input": "2023-04-19T07:33:54.621004Z",
     "iopub.status.busy": "2023-04-19T07:33:54.620614Z",
     "iopub.status.idle": "2023-04-19T07:33:54.808037Z",
     "shell.execute_reply": "2023-04-19T07:33:54.807006Z",
     "shell.execute_reply.started": "2023-04-19T07:33:54.620969Z"
    }
   },
   "outputs": [],
   "source": [
    "bdf = df['datetime'][df['BingBot']==1]\n",
    "bdf = bdf.apply(lambda x: x.split(':')[0])\n",
    "bdf_final = pd.DataFrame(\n",
    "    {'datetime': list(bdf.value_counts(sort=False).index),\n",
    "     'frequency': bdf.value_counts(sort=False).values\n",
    "    })"
   ]
  },
  {
   "cell_type": "code",
   "execution_count": 8,
   "metadata": {
    "execution": {
     "iopub.execute_input": "2023-04-19T07:33:54.810289Z",
     "iopub.status.busy": "2023-04-19T07:33:54.809652Z",
     "iopub.status.idle": "2023-04-19T07:33:55.389421Z",
     "shell.execute_reply": "2023-04-19T07:33:55.387928Z",
     "shell.execute_reply.started": "2023-04-19T07:33:54.810251Z"
    }
   },
   "outputs": [],
   "source": [
    "Gdf = df['datetime'][df['GoogleBot']==1]\n",
    "Gdf = Gdf.apply(lambda x: x.split(':')[0])\n",
    "Gdf_final = pd.DataFrame(\n",
    "    {'datetime': list(Gdf.value_counts(sort=False).index),\n",
    "     'frequency': Gdf.value_counts(sort=False).values\n",
    "    })"
   ]
  },
  {
   "cell_type": "code",
   "execution_count": 9,
   "metadata": {
    "execution": {
     "iopub.execute_input": "2023-04-19T07:33:55.391174Z",
     "iopub.status.busy": "2023-04-19T07:33:55.390840Z",
     "iopub.status.idle": "2023-04-19T07:33:55.861503Z",
     "shell.execute_reply": "2023-04-19T07:33:55.860102Z",
     "shell.execute_reply.started": "2023-04-19T07:33:55.391144Z"
    }
   },
   "outputs": [],
   "source": [
    "from sklearn import preprocessing\n",
    "bdf_f=preprocessing.normalize([list(bdf_final['frequency'])])\n",
    "bdf_final[\"frequency\"]=bdf_f[0]\n",
    "Gdf_f=preprocessing.normalize([list(Gdf_final['frequency'])])\n",
    "Gdf_final[\"frequency\"]=Gdf_f[0]"
   ]
  },
  {
   "cell_type": "code",
   "execution_count": 10,
   "metadata": {
    "execution": {
     "iopub.execute_input": "2023-04-19T07:33:55.865713Z",
     "iopub.status.busy": "2023-04-19T07:33:55.865333Z",
     "iopub.status.idle": "2023-04-19T07:33:56.214103Z",
     "shell.execute_reply": "2023-04-19T07:33:56.212923Z",
     "shell.execute_reply.started": "2023-04-19T07:33:55.865675Z"
    }
   },
   "outputs": [
    {
     "data": {
      "text/html": [
       "        <script type=\"text/javascript\">\n",
       "        window.PlotlyConfig = {MathJaxConfig: 'local'};\n",
       "        if (window.MathJax && window.MathJax.Hub && window.MathJax.Hub.Config) {window.MathJax.Hub.Config({SVG: {font: \"STIX-Web\"}});}\n",
       "        if (typeof require !== 'undefined') {\n",
       "        require.undef(\"plotly\");\n",
       "        requirejs.config({\n",
       "            paths: {\n",
       "                'plotly': ['https://cdn.plot.ly/plotly-2.18.0.min']\n",
       "            }\n",
       "        });\n",
       "        require(['plotly'], function(Plotly) {\n",
       "            window._Plotly = Plotly;\n",
       "        });\n",
       "        }\n",
       "        </script>\n",
       "        "
      ]
     },
     "metadata": {},
     "output_type": "display_data"
    },
    {
     "data": {
      "text/html": [
       "<div>                            <div id=\"dc96b8b6-794d-43f9-a543-fc8b8e3a52c3\" class=\"plotly-graph-div\" style=\"height:525px; width:100%;\"></div>            <script type=\"text/javascript\">                require([\"plotly\"], function(Plotly) {                    window.PLOTLYENV=window.PLOTLYENV || {};                                    if (document.getElementById(\"dc96b8b6-794d-43f9-a543-fc8b8e3a52c3\")) {                    Plotly.newPlot(                        \"dc96b8b6-794d-43f9-a543-fc8b8e3a52c3\",                        [{\"line\":{\"color\":\"firebrick\",\"width\":2},\"name\":\"Bingbot frequency        \",\"x\":[\"2019-01-22 03\",\"2019-01-22 04\",\"2019-01-22 05\",\"2019-01-22 06\",\"2019-01-22 07\",\"2019-01-22 08\",\"2019-01-22 09\",\"2019-01-22 10\",\"2019-01-22 11\",\"2019-01-22 12\",\"2019-01-22 13\",\"2019-01-22 14\",\"2019-01-22 15\",\"2019-01-22 16\",\"2019-01-22 17\",\"2019-01-22 18\",\"2019-01-22 19\",\"2019-01-22 20\",\"2019-01-22 21\",\"2019-01-22 22\",\"2019-01-22 23\",\"2019-01-23 00\",\"2019-01-23 01\",\"2019-01-23 02\",\"2019-01-23 03\",\"2019-01-23 04\",\"2019-01-23 05\",\"2019-01-23 06\",\"2019-01-23 07\",\"2019-01-23 08\",\"2019-01-23 09\",\"2019-01-23 10\",\"2019-01-23 11\",\"2019-01-23 12\",\"2019-01-23 13\",\"2019-01-23 14\",\"2019-01-23 15\",\"2019-01-23 16\",\"2019-01-23 17\",\"2019-01-23 18\",\"2019-01-23 19\",\"2019-01-23 20\",\"2019-01-23 21\",\"2019-01-23 22\",\"2019-01-23 23\",\"2019-01-24 00\",\"2019-01-24 01\",\"2019-01-24 02\",\"2019-01-24 03\",\"2019-01-24 04\",\"2019-01-24 05\",\"2019-01-24 06\",\"2019-01-24 07\",\"2019-01-24 08\",\"2019-01-24 09\",\"2019-01-24 10\",\"2019-01-24 11\",\"2019-01-24 12\",\"2019-01-24 13\",\"2019-01-24 14\",\"2019-01-24 15\",\"2019-01-24 16\",\"2019-01-24 17\",\"2019-01-24 18\",\"2019-01-24 19\",\"2019-01-24 20\",\"2019-01-24 21\",\"2019-01-24 22\",\"2019-01-24 23\",\"2019-01-25 00\",\"2019-01-25 01\",\"2019-01-25 02\",\"2019-01-25 03\",\"2019-01-25 04\",\"2019-01-25 05\",\"2019-01-25 06\",\"2019-01-25 07\",\"2019-01-25 08\",\"2019-01-25 09\",\"2019-01-25 10\",\"2019-01-25 11\",\"2019-01-25 12\",\"2019-01-25 13\",\"2019-01-25 14\",\"2019-01-25 15\",\"2019-01-25 16\",\"2019-01-25 17\",\"2019-01-25 18\",\"2019-01-25 19\",\"2019-01-25 20\",\"2019-01-25 21\",\"2019-01-25 22\",\"2019-01-25 23\",\"2019-01-26 00\",\"2019-01-26 01\",\"2019-01-26 02\",\"2019-01-26 03\",\"2019-01-26 04\",\"2019-01-26 05\",\"2019-01-26 06\",\"2019-01-26 07\",\"2019-01-26 08\",\"2019-01-26 09\",\"2019-01-26 10\",\"2019-01-26 11\",\"2019-01-26 12\",\"2019-01-26 13\",\"2019-01-26 14\",\"2019-01-26 15\",\"2019-01-26 16\",\"2019-01-26 17\",\"2019-01-26 18\",\"2019-01-26 19\",\"2019-01-26 20\"],\"y\":[0.0062631932198846845,0.07661137946562946,0.1381409896577766,0.1277190361398885,0.13428286263432765,0.1352849735495092,0.1223577427436672,0.11449117205949204,0.1370386676510769,0.0709494527948537,0.08137140631274183,0.09895845287417802,0.08968892690874869,0.0774130681977747,0.05070681230818641,0.06929596978480415,0.07455705208950729,0.08347583923462308,0.06568837049015057,0.08988934909178499,0.08512932224467264,0.0891878714511579,0.06929596978480415,0.0743065243607119,0.08838618271901268,0.14565682152163822,0.1457069270673973,0.22522442818705327,0.13789046192898122,0.10497111836526732,0.1063239681007624,0.14645851025378348,0.0934468428406795,0.10436985181615839,0.09289568183732964,0.07611032400803869,0.07811454583840179,0.07305388571673496,0.05882391072115696,0.07500800200133899,0.03833074250569427,0.04564615218651958,0.05581757797561231,0.06208077119549699,0.07671159055714762,0.08978913800026685,0.08157182849577814,0.08082024530939197,0.08723375516655389,0.08107077303818735,0.07415620772343466,0.07570947964196607,0.1043197462703993,0.08217309504488707,0.07596000737076146,0.07766359592657009,0.07570947964196607,0.07235240807610788,0.0787659179332698,0.07761349038081101,0.08643206643440865,0.07440673545223006,0.08016887321452397,0.13423275708856855,0.24326242466032116,0.15868426341899838,0.08798533835294005,0.07766359592657009,0.07525852973013437,0.07590990182500237,0.06819364777810445,0.06503699839528257,0.08983924354602592,0.07701222383170209,0.0869832274377585,0.08838618271901268,0.11839940462870008,0.1502164261857143,0.12431185902827123,0.07545895191317069,0.07956760666541504,0.09089146000696655,0.08793523280718098,0.09059082673241207,0.08828597162749452,0.07931707893661964,0.06508710394104164,0.0803191898518012,0.062481615561569614,0.05521631142650338,0.07716254046897932,0.08673269970896312,0.0718513526185171,0.0832253115058277,0.08117098412970551,0.08553016661074525,0.07746317374353379,0.08197267286185075,0.08472847787860001,0.055717366884094156,0.07706232937746116,0.09560138130831983,0.09535085357952444,0.08357605032614124,0.06032707709392928,0.06679069249685028,0.07415620772343466,0.07791412365536547,0.07706232937746116,0.07400589108615743,0.06684079804260935,0.07726275156049747,0.07761349038081101,0.041487391888516155],\"type\":\"scatter\"},{\"line\":{\"color\":\"royalblue\",\"width\":2},\"name\":\"Googlebot frequency        \",\"x\":[\"2019-01-22 03\",\"2019-01-22 04\",\"2019-01-22 05\",\"2019-01-22 06\",\"2019-01-22 07\",\"2019-01-22 08\",\"2019-01-22 09\",\"2019-01-22 10\",\"2019-01-22 11\",\"2019-01-22 12\",\"2019-01-22 13\",\"2019-01-22 14\",\"2019-01-22 15\",\"2019-01-22 16\",\"2019-01-22 17\",\"2019-01-22 18\",\"2019-01-22 19\",\"2019-01-22 20\",\"2019-01-22 21\",\"2019-01-22 22\",\"2019-01-22 23\",\"2019-01-23 00\",\"2019-01-23 01\",\"2019-01-23 02\",\"2019-01-23 03\",\"2019-01-23 04\",\"2019-01-23 05\",\"2019-01-23 06\",\"2019-01-23 07\",\"2019-01-23 08\",\"2019-01-23 09\",\"2019-01-23 10\",\"2019-01-23 11\",\"2019-01-23 12\",\"2019-01-23 13\",\"2019-01-23 14\",\"2019-01-23 15\",\"2019-01-23 16\",\"2019-01-23 17\",\"2019-01-23 18\",\"2019-01-23 19\",\"2019-01-23 20\",\"2019-01-23 21\",\"2019-01-23 22\",\"2019-01-23 23\",\"2019-01-24 00\",\"2019-01-24 01\",\"2019-01-24 02\",\"2019-01-24 03\",\"2019-01-24 04\",\"2019-01-24 05\",\"2019-01-24 06\",\"2019-01-24 07\",\"2019-01-24 08\",\"2019-01-24 09\",\"2019-01-24 10\",\"2019-01-24 11\",\"2019-01-24 12\",\"2019-01-24 13\",\"2019-01-24 14\",\"2019-01-24 15\",\"2019-01-24 16\",\"2019-01-24 17\",\"2019-01-24 18\",\"2019-01-24 19\",\"2019-01-24 20\",\"2019-01-24 21\",\"2019-01-24 22\",\"2019-01-24 23\",\"2019-01-25 00\",\"2019-01-25 01\",\"2019-01-25 02\",\"2019-01-25 03\",\"2019-01-25 04\",\"2019-01-25 05\",\"2019-01-25 06\",\"2019-01-25 07\",\"2019-01-25 08\",\"2019-01-25 09\",\"2019-01-25 10\",\"2019-01-25 11\",\"2019-01-25 12\",\"2019-01-25 13\",\"2019-01-25 14\",\"2019-01-25 15\",\"2019-01-25 16\",\"2019-01-25 17\",\"2019-01-25 18\",\"2019-01-25 19\",\"2019-01-25 20\",\"2019-01-25 21\",\"2019-01-25 22\",\"2019-01-25 23\",\"2019-01-26 00\",\"2019-01-26 01\",\"2019-01-26 02\",\"2019-01-26 03\",\"2019-01-26 04\",\"2019-01-26 05\",\"2019-01-26 06\",\"2019-01-26 07\",\"2019-01-26 08\",\"2019-01-26 09\",\"2019-01-26 10\",\"2019-01-26 11\",\"2019-01-26 12\",\"2019-01-26 13\",\"2019-01-26 14\",\"2019-01-26 15\",\"2019-01-26 16\",\"2019-01-26 17\",\"2019-01-26 18\",\"2019-01-26 19\",\"2019-01-26 20\"],\"y\":[0.0025851624138968736,0.04406070502520351,0.04177672658185773,0.05141461363949267,0.0625207725535642,0.07089117706846329,0.08232361861729849,0.09256387361603563,0.07249749157806912,0.09913972363973447,0.10931723197794012,0.13176798711610277,0.14414162857291016,0.14776838555162955,0.14095409821791108,0.13511865878848367,0.1261207876682698,0.09105795376328017,0.10542693902498852,0.10172488605363135,0.10368258186221345,0.10330610189902457,0.11606877265112711,0.0839926797874358,0.06794208402348385,0.060487780752344324,0.05586962653722758,0.05963442616911623,0.0703390064557863,0.07623719254574518,0.08136986937722004,0.08896221530152881,0.09873814501233301,0.09799773441806157,0.11478874077628497,0.12292070798116445,0.11404833018201353,0.11974572695827168,0.13070129388706767,0.10926703464951494,0.11694722589856779,0.11427421815992685,0.11079805316648299,0.13656183198070765,0.09518668402625138,0.12721257956151752,0.11069765850963263,0.08989086587739469,0.051276570986323426,0.04221595320557807,0.03675699373933953,0.03897822552215383,0.04431169166732942,0.05623355716831015,0.0728363235449391,0.08436915975062466,0.0862139115702501,0.07524579530934783,0.13569592806537328,0.09637887057634946,0.11332046891984839,0.1130443836135099,0.1197331776261654,0.09240073229865378,0.10843877873049944,0.1107855038343767,0.10236490199105241,0.11559189803108788,0.10461123243807931,0.13070129388706767,0.11044667186750672,0.07100412105741996,0.04900514187508394,0.034811847262863724,0.036869937728296186,0.03705817770989062,0.041287302629712204,0.053861733400220296,0.06912172124147563,0.09447137209619254,0.1004699528430018,0.10772346680044059,0.1035194405448316,0.1328221310130316,0.11510247407894235,0.10255314197264685,0.12169087343474749,0.13431550153368077,0.1476052442342477,0.13029971525966622,0.1169095779022489,0.09670515321111314,0.09699378784955794,0.06012385012126176,0.04593055550904154,0.050636555048902354,0.04487641161211272,0.057463391714727106,0.057714378356853016,0.04933142450984762,0.06016149811758064,0.05591982386565276,0.05836694362638038,0.07333829682919092,0.0602869914386436,0.0775674217490125,0.07653837651629627,0.10058289683195845,0.0689585799240938,0.07947492022916942,0.07183237697643546,0.08584998093916753,0.11486403676892273,0.0452026942468764],\"type\":\"scatter\"}],                        {\"template\":{\"data\":{\"histogram2dcontour\":[{\"type\":\"histogram2dcontour\",\"colorbar\":{\"outlinewidth\":0,\"ticks\":\"\"},\"colorscale\":[[0.0,\"#0d0887\"],[0.1111111111111111,\"#46039f\"],[0.2222222222222222,\"#7201a8\"],[0.3333333333333333,\"#9c179e\"],[0.4444444444444444,\"#bd3786\"],[0.5555555555555556,\"#d8576b\"],[0.6666666666666666,\"#ed7953\"],[0.7777777777777778,\"#fb9f3a\"],[0.8888888888888888,\"#fdca26\"],[1.0,\"#f0f921\"]]}],\"choropleth\":[{\"type\":\"choropleth\",\"colorbar\":{\"outlinewidth\":0,\"ticks\":\"\"}}],\"histogram2d\":[{\"type\":\"histogram2d\",\"colorbar\":{\"outlinewidth\":0,\"ticks\":\"\"},\"colorscale\":[[0.0,\"#0d0887\"],[0.1111111111111111,\"#46039f\"],[0.2222222222222222,\"#7201a8\"],[0.3333333333333333,\"#9c179e\"],[0.4444444444444444,\"#bd3786\"],[0.5555555555555556,\"#d8576b\"],[0.6666666666666666,\"#ed7953\"],[0.7777777777777778,\"#fb9f3a\"],[0.8888888888888888,\"#fdca26\"],[1.0,\"#f0f921\"]]}],\"heatmap\":[{\"type\":\"heatmap\",\"colorbar\":{\"outlinewidth\":0,\"ticks\":\"\"},\"colorscale\":[[0.0,\"#0d0887\"],[0.1111111111111111,\"#46039f\"],[0.2222222222222222,\"#7201a8\"],[0.3333333333333333,\"#9c179e\"],[0.4444444444444444,\"#bd3786\"],[0.5555555555555556,\"#d8576b\"],[0.6666666666666666,\"#ed7953\"],[0.7777777777777778,\"#fb9f3a\"],[0.8888888888888888,\"#fdca26\"],[1.0,\"#f0f921\"]]}],\"heatmapgl\":[{\"type\":\"heatmapgl\",\"colorbar\":{\"outlinewidth\":0,\"ticks\":\"\"},\"colorscale\":[[0.0,\"#0d0887\"],[0.1111111111111111,\"#46039f\"],[0.2222222222222222,\"#7201a8\"],[0.3333333333333333,\"#9c179e\"],[0.4444444444444444,\"#bd3786\"],[0.5555555555555556,\"#d8576b\"],[0.6666666666666666,\"#ed7953\"],[0.7777777777777778,\"#fb9f3a\"],[0.8888888888888888,\"#fdca26\"],[1.0,\"#f0f921\"]]}],\"contourcarpet\":[{\"type\":\"contourcarpet\",\"colorbar\":{\"outlinewidth\":0,\"ticks\":\"\"}}],\"contour\":[{\"type\":\"contour\",\"colorbar\":{\"outlinewidth\":0,\"ticks\":\"\"},\"colorscale\":[[0.0,\"#0d0887\"],[0.1111111111111111,\"#46039f\"],[0.2222222222222222,\"#7201a8\"],[0.3333333333333333,\"#9c179e\"],[0.4444444444444444,\"#bd3786\"],[0.5555555555555556,\"#d8576b\"],[0.6666666666666666,\"#ed7953\"],[0.7777777777777778,\"#fb9f3a\"],[0.8888888888888888,\"#fdca26\"],[1.0,\"#f0f921\"]]}],\"surface\":[{\"type\":\"surface\",\"colorbar\":{\"outlinewidth\":0,\"ticks\":\"\"},\"colorscale\":[[0.0,\"#0d0887\"],[0.1111111111111111,\"#46039f\"],[0.2222222222222222,\"#7201a8\"],[0.3333333333333333,\"#9c179e\"],[0.4444444444444444,\"#bd3786\"],[0.5555555555555556,\"#d8576b\"],[0.6666666666666666,\"#ed7953\"],[0.7777777777777778,\"#fb9f3a\"],[0.8888888888888888,\"#fdca26\"],[1.0,\"#f0f921\"]]}],\"mesh3d\":[{\"type\":\"mesh3d\",\"colorbar\":{\"outlinewidth\":0,\"ticks\":\"\"}}],\"scatter\":[{\"fillpattern\":{\"fillmode\":\"overlay\",\"size\":10,\"solidity\":0.2},\"type\":\"scatter\"}],\"parcoords\":[{\"type\":\"parcoords\",\"line\":{\"colorbar\":{\"outlinewidth\":0,\"ticks\":\"\"}}}],\"scatterpolargl\":[{\"type\":\"scatterpolargl\",\"marker\":{\"colorbar\":{\"outlinewidth\":0,\"ticks\":\"\"}}}],\"bar\":[{\"error_x\":{\"color\":\"#2a3f5f\"},\"error_y\":{\"color\":\"#2a3f5f\"},\"marker\":{\"line\":{\"color\":\"#E5ECF6\",\"width\":0.5},\"pattern\":{\"fillmode\":\"overlay\",\"size\":10,\"solidity\":0.2}},\"type\":\"bar\"}],\"scattergeo\":[{\"type\":\"scattergeo\",\"marker\":{\"colorbar\":{\"outlinewidth\":0,\"ticks\":\"\"}}}],\"scatterpolar\":[{\"type\":\"scatterpolar\",\"marker\":{\"colorbar\":{\"outlinewidth\":0,\"ticks\":\"\"}}}],\"histogram\":[{\"marker\":{\"pattern\":{\"fillmode\":\"overlay\",\"size\":10,\"solidity\":0.2}},\"type\":\"histogram\"}],\"scattergl\":[{\"type\":\"scattergl\",\"marker\":{\"colorbar\":{\"outlinewidth\":0,\"ticks\":\"\"}}}],\"scatter3d\":[{\"type\":\"scatter3d\",\"line\":{\"colorbar\":{\"outlinewidth\":0,\"ticks\":\"\"}},\"marker\":{\"colorbar\":{\"outlinewidth\":0,\"ticks\":\"\"}}}],\"scattermapbox\":[{\"type\":\"scattermapbox\",\"marker\":{\"colorbar\":{\"outlinewidth\":0,\"ticks\":\"\"}}}],\"scatterternary\":[{\"type\":\"scatterternary\",\"marker\":{\"colorbar\":{\"outlinewidth\":0,\"ticks\":\"\"}}}],\"scattercarpet\":[{\"type\":\"scattercarpet\",\"marker\":{\"colorbar\":{\"outlinewidth\":0,\"ticks\":\"\"}}}],\"carpet\":[{\"aaxis\":{\"endlinecolor\":\"#2a3f5f\",\"gridcolor\":\"white\",\"linecolor\":\"white\",\"minorgridcolor\":\"white\",\"startlinecolor\":\"#2a3f5f\"},\"baxis\":{\"endlinecolor\":\"#2a3f5f\",\"gridcolor\":\"white\",\"linecolor\":\"white\",\"minorgridcolor\":\"white\",\"startlinecolor\":\"#2a3f5f\"},\"type\":\"carpet\"}],\"table\":[{\"cells\":{\"fill\":{\"color\":\"#EBF0F8\"},\"line\":{\"color\":\"white\"}},\"header\":{\"fill\":{\"color\":\"#C8D4E3\"},\"line\":{\"color\":\"white\"}},\"type\":\"table\"}],\"barpolar\":[{\"marker\":{\"line\":{\"color\":\"#E5ECF6\",\"width\":0.5},\"pattern\":{\"fillmode\":\"overlay\",\"size\":10,\"solidity\":0.2}},\"type\":\"barpolar\"}],\"pie\":[{\"automargin\":true,\"type\":\"pie\"}]},\"layout\":{\"autotypenumbers\":\"strict\",\"colorway\":[\"#636efa\",\"#EF553B\",\"#00cc96\",\"#ab63fa\",\"#FFA15A\",\"#19d3f3\",\"#FF6692\",\"#B6E880\",\"#FF97FF\",\"#FECB52\"],\"font\":{\"color\":\"#2a3f5f\"},\"hovermode\":\"closest\",\"hoverlabel\":{\"align\":\"left\"},\"paper_bgcolor\":\"white\",\"plot_bgcolor\":\"#E5ECF6\",\"polar\":{\"bgcolor\":\"#E5ECF6\",\"angularaxis\":{\"gridcolor\":\"white\",\"linecolor\":\"white\",\"ticks\":\"\"},\"radialaxis\":{\"gridcolor\":\"white\",\"linecolor\":\"white\",\"ticks\":\"\"}},\"ternary\":{\"bgcolor\":\"#E5ECF6\",\"aaxis\":{\"gridcolor\":\"white\",\"linecolor\":\"white\",\"ticks\":\"\"},\"baxis\":{\"gridcolor\":\"white\",\"linecolor\":\"white\",\"ticks\":\"\"},\"caxis\":{\"gridcolor\":\"white\",\"linecolor\":\"white\",\"ticks\":\"\"}},\"coloraxis\":{\"colorbar\":{\"outlinewidth\":0,\"ticks\":\"\"}},\"colorscale\":{\"sequential\":[[0.0,\"#0d0887\"],[0.1111111111111111,\"#46039f\"],[0.2222222222222222,\"#7201a8\"],[0.3333333333333333,\"#9c179e\"],[0.4444444444444444,\"#bd3786\"],[0.5555555555555556,\"#d8576b\"],[0.6666666666666666,\"#ed7953\"],[0.7777777777777778,\"#fb9f3a\"],[0.8888888888888888,\"#fdca26\"],[1.0,\"#f0f921\"]],\"sequentialminus\":[[0.0,\"#0d0887\"],[0.1111111111111111,\"#46039f\"],[0.2222222222222222,\"#7201a8\"],[0.3333333333333333,\"#9c179e\"],[0.4444444444444444,\"#bd3786\"],[0.5555555555555556,\"#d8576b\"],[0.6666666666666666,\"#ed7953\"],[0.7777777777777778,\"#fb9f3a\"],[0.8888888888888888,\"#fdca26\"],[1.0,\"#f0f921\"]],\"diverging\":[[0,\"#8e0152\"],[0.1,\"#c51b7d\"],[0.2,\"#de77ae\"],[0.3,\"#f1b6da\"],[0.4,\"#fde0ef\"],[0.5,\"#f7f7f7\"],[0.6,\"#e6f5d0\"],[0.7,\"#b8e186\"],[0.8,\"#7fbc41\"],[0.9,\"#4d9221\"],[1,\"#276419\"]]},\"xaxis\":{\"gridcolor\":\"white\",\"linecolor\":\"white\",\"ticks\":\"\",\"title\":{\"standoff\":15},\"zerolinecolor\":\"white\",\"automargin\":true,\"zerolinewidth\":2},\"yaxis\":{\"gridcolor\":\"white\",\"linecolor\":\"white\",\"ticks\":\"\",\"title\":{\"standoff\":15},\"zerolinecolor\":\"white\",\"automargin\":true,\"zerolinewidth\":2},\"scene\":{\"xaxis\":{\"backgroundcolor\":\"#E5ECF6\",\"gridcolor\":\"white\",\"linecolor\":\"white\",\"showbackground\":true,\"ticks\":\"\",\"zerolinecolor\":\"white\",\"gridwidth\":2},\"yaxis\":{\"backgroundcolor\":\"#E5ECF6\",\"gridcolor\":\"white\",\"linecolor\":\"white\",\"showbackground\":true,\"ticks\":\"\",\"zerolinecolor\":\"white\",\"gridwidth\":2},\"zaxis\":{\"backgroundcolor\":\"#E5ECF6\",\"gridcolor\":\"white\",\"linecolor\":\"white\",\"showbackground\":true,\"ticks\":\"\",\"zerolinecolor\":\"white\",\"gridwidth\":2}},\"shapedefaults\":{\"line\":{\"color\":\"#2a3f5f\"}},\"annotationdefaults\":{\"arrowcolor\":\"#2a3f5f\",\"arrowhead\":0,\"arrowwidth\":1},\"geo\":{\"bgcolor\":\"white\",\"landcolor\":\"#E5ECF6\",\"subunitcolor\":\"white\",\"showland\":true,\"showlakes\":true,\"lakecolor\":\"white\"},\"title\":{\"x\":0.05},\"mapbox\":{\"style\":\"light\"}}},\"font\":{\"family\":\"Times New Roman, monospace, 100\",\"color\":\"black\"},\"plot_bgcolor\":\"#dbfdff\",\"xaxis\":{\"title\":{\"text\":\"Time\"}},\"title\":{\"text\":\"Time(in Hrs) VS Frequency\"}},                        {\"responsive\": true}                    ).then(function(){\n",
       "                            \n",
       "var gd = document.getElementById('dc96b8b6-794d-43f9-a543-fc8b8e3a52c3');\n",
       "var x = new MutationObserver(function (mutations, observer) {{\n",
       "        var display = window.getComputedStyle(gd).display;\n",
       "        if (!display || display === 'none') {{\n",
       "            console.log([gd, 'removed!']);\n",
       "            Plotly.purge(gd);\n",
       "            observer.disconnect();\n",
       "        }}\n",
       "}});\n",
       "\n",
       "// Listen for the removal of the full notebook cells\n",
       "var notebookContainer = gd.closest('#notebook-container');\n",
       "if (notebookContainer) {{\n",
       "    x.observe(notebookContainer, {childList: true});\n",
       "}}\n",
       "\n",
       "// Listen for the clearing of the current output cell\n",
       "var outputEl = gd.closest('.output');\n",
       "if (outputEl) {{\n",
       "    x.observe(outputEl, {childList: true});\n",
       "}}\n",
       "\n",
       "                        })                };                });            </script>        </div>"
      ]
     },
     "metadata": {},
     "output_type": "display_data"
    }
   ],
   "source": [
    "fig = go.Figure()\n",
    "fig.add_trace(go.Scatter(x = bdf_final['datetime'], y = bdf_final['frequency'], name = 'Bingbot frequency'+'        ', line = dict(color = 'firebrick', width = 2)))\n",
    "fig.add_trace(go.Scatter(x = Gdf_final['datetime'], y = Gdf_final['frequency'], name = 'Googlebot frequency'+'        ', line = dict(color = 'royalblue', width = 2)))\n",
    "fig.update_layout(font_family = 'Times New Roman, monospace, 100', font_color = 'black', plot_bgcolor = '#dbfdff', xaxis_title = 'Time', title = \"Time(in Hrs) VS Frequency\" )\n",
    "fig.show()"
   ]
  },
  {
   "cell_type": "code",
   "execution_count": 11,
   "metadata": {
    "execution": {
     "iopub.execute_input": "2023-04-19T07:33:56.216945Z",
     "iopub.status.busy": "2023-04-19T07:33:56.215832Z",
     "iopub.status.idle": "2023-04-19T07:34:28.741981Z",
     "shell.execute_reply": "2023-04-19T07:34:28.739530Z",
     "shell.execute_reply.started": "2023-04-19T07:33:56.216905Z"
    }
   },
   "outputs": [
    {
     "name": "stdout",
     "output_type": "stream",
     "text": [
      "Collecting en-core-web-md==3.5.0\n",
      "  Downloading https://github.com/explosion/spacy-models/releases/download/en_core_web_md-3.5.0/en_core_web_md-3.5.0-py3-none-any.whl (42.8 MB)\n",
      "\u001b[2K     \u001b[90m━━━━━━━━━━━━━━━━━━━━━━━━━━━━━━━━━━━━━━━━\u001b[0m \u001b[32m42.8/42.8 MB\u001b[0m \u001b[31m20.7 MB/s\u001b[0m eta \u001b[36m0:00:00\u001b[0m00:01\u001b[0m00:01\u001b[0m\n",
      "\u001b[?25hRequirement already satisfied: spacy<3.6.0,>=3.5.0 in /opt/conda/lib/python3.7/site-packages (from en-core-web-md==3.5.0) (3.5.1)\n",
      "Requirement already satisfied: pydantic!=1.8,!=1.8.1,<1.11.0,>=1.7.4 in /opt/conda/lib/python3.7/site-packages (from spacy<3.6.0,>=3.5.0->en-core-web-md==3.5.0) (1.10.4)\n",
      "Requirement already satisfied: typer<0.8.0,>=0.3.0 in /opt/conda/lib/python3.7/site-packages (from spacy<3.6.0,>=3.5.0->en-core-web-md==3.5.0) (0.7.0)\n",
      "Requirement already satisfied: preshed<3.1.0,>=3.0.2 in /opt/conda/lib/python3.7/site-packages (from spacy<3.6.0,>=3.5.0->en-core-web-md==3.5.0) (3.0.8)\n",
      "Requirement already satisfied: catalogue<2.1.0,>=2.0.6 in /opt/conda/lib/python3.7/site-packages (from spacy<3.6.0,>=3.5.0->en-core-web-md==3.5.0) (2.0.8)\n",
      "Requirement already satisfied: packaging>=20.0 in /opt/conda/lib/python3.7/site-packages (from spacy<3.6.0,>=3.5.0->en-core-web-md==3.5.0) (23.0)\n",
      "Requirement already satisfied: murmurhash<1.1.0,>=0.28.0 in /opt/conda/lib/python3.7/site-packages (from spacy<3.6.0,>=3.5.0->en-core-web-md==3.5.0) (1.0.9)\n",
      "Requirement already satisfied: pathy>=0.10.0 in /opt/conda/lib/python3.7/site-packages (from spacy<3.6.0,>=3.5.0->en-core-web-md==3.5.0) (0.10.1)\n",
      "Requirement already satisfied: setuptools in /opt/conda/lib/python3.7/site-packages (from spacy<3.6.0,>=3.5.0->en-core-web-md==3.5.0) (59.8.0)\n",
      "Requirement already satisfied: smart-open<7.0.0,>=5.2.1 in /opt/conda/lib/python3.7/site-packages (from spacy<3.6.0,>=3.5.0->en-core-web-md==3.5.0) (6.3.0)\n",
      "Requirement already satisfied: cymem<2.1.0,>=2.0.2 in /opt/conda/lib/python3.7/site-packages (from spacy<3.6.0,>=3.5.0->en-core-web-md==3.5.0) (2.0.7)\n",
      "Requirement already satisfied: typing-extensions<4.5.0,>=3.7.4.1 in /opt/conda/lib/python3.7/site-packages (from spacy<3.6.0,>=3.5.0->en-core-web-md==3.5.0) (4.4.0)\n",
      "Requirement already satisfied: jinja2 in /opt/conda/lib/python3.7/site-packages (from spacy<3.6.0,>=3.5.0->en-core-web-md==3.5.0) (3.1.2)\n",
      "Requirement already satisfied: spacy-legacy<3.1.0,>=3.0.11 in /opt/conda/lib/python3.7/site-packages (from spacy<3.6.0,>=3.5.0->en-core-web-md==3.5.0) (3.0.12)\n",
      "Requirement already satisfied: wasabi<1.2.0,>=0.9.1 in /opt/conda/lib/python3.7/site-packages (from spacy<3.6.0,>=3.5.0->en-core-web-md==3.5.0) (1.1.1)\n",
      "Requirement already satisfied: langcodes<4.0.0,>=3.2.0 in /opt/conda/lib/python3.7/site-packages (from spacy<3.6.0,>=3.5.0->en-core-web-md==3.5.0) (3.3.0)\n",
      "Requirement already satisfied: thinc<8.2.0,>=8.1.8 in /opt/conda/lib/python3.7/site-packages (from spacy<3.6.0,>=3.5.0->en-core-web-md==3.5.0) (8.1.9)\n",
      "Requirement already satisfied: spacy-loggers<2.0.0,>=1.0.0 in /opt/conda/lib/python3.7/site-packages (from spacy<3.6.0,>=3.5.0->en-core-web-md==3.5.0) (1.0.4)\n",
      "Requirement already satisfied: requests<3.0.0,>=2.13.0 in /opt/conda/lib/python3.7/site-packages (from spacy<3.6.0,>=3.5.0->en-core-web-md==3.5.0) (2.28.2)\n",
      "Requirement already satisfied: numpy>=1.15.0 in /opt/conda/lib/python3.7/site-packages (from spacy<3.6.0,>=3.5.0->en-core-web-md==3.5.0) (1.21.6)\n",
      "Requirement already satisfied: srsly<3.0.0,>=2.4.3 in /opt/conda/lib/python3.7/site-packages (from spacy<3.6.0,>=3.5.0->en-core-web-md==3.5.0) (2.4.6)\n",
      "Requirement already satisfied: tqdm<5.0.0,>=4.38.0 in /opt/conda/lib/python3.7/site-packages (from spacy<3.6.0,>=3.5.0->en-core-web-md==3.5.0) (4.64.1)\n",
      "Requirement already satisfied: zipp>=0.5 in /opt/conda/lib/python3.7/site-packages (from catalogue<2.1.0,>=2.0.6->spacy<3.6.0,>=3.5.0->en-core-web-md==3.5.0) (3.11.0)\n",
      "Requirement already satisfied: urllib3<1.27,>=1.21.1 in /opt/conda/lib/python3.7/site-packages (from requests<3.0.0,>=2.13.0->spacy<3.6.0,>=3.5.0->en-core-web-md==3.5.0) (1.26.14)\n",
      "Requirement already satisfied: certifi>=2017.4.17 in /opt/conda/lib/python3.7/site-packages (from requests<3.0.0,>=2.13.0->spacy<3.6.0,>=3.5.0->en-core-web-md==3.5.0) (2022.12.7)\n",
      "Requirement already satisfied: idna<4,>=2.5 in /opt/conda/lib/python3.7/site-packages (from requests<3.0.0,>=2.13.0->spacy<3.6.0,>=3.5.0->en-core-web-md==3.5.0) (3.4)\n",
      "Requirement already satisfied: charset-normalizer<4,>=2 in /opt/conda/lib/python3.7/site-packages (from requests<3.0.0,>=2.13.0->spacy<3.6.0,>=3.5.0->en-core-web-md==3.5.0) (2.1.1)\n",
      "Requirement already satisfied: blis<0.8.0,>=0.7.8 in /opt/conda/lib/python3.7/site-packages (from thinc<8.2.0,>=8.1.8->spacy<3.6.0,>=3.5.0->en-core-web-md==3.5.0) (0.7.9)\n",
      "Requirement already satisfied: confection<1.0.0,>=0.0.1 in /opt/conda/lib/python3.7/site-packages (from thinc<8.2.0,>=8.1.8->spacy<3.6.0,>=3.5.0->en-core-web-md==3.5.0) (0.0.4)\n",
      "Requirement already satisfied: click<9.0.0,>=7.1.1 in /opt/conda/lib/python3.7/site-packages (from typer<0.8.0,>=0.3.0->spacy<3.6.0,>=3.5.0->en-core-web-md==3.5.0) (8.1.3)\n",
      "Requirement already satisfied: MarkupSafe>=2.0 in /opt/conda/lib/python3.7/site-packages (from jinja2->spacy<3.6.0,>=3.5.0->en-core-web-md==3.5.0) (2.1.1)\n",
      "Requirement already satisfied: importlib-metadata in /opt/conda/lib/python3.7/site-packages (from click<9.0.0,>=7.1.1->typer<0.8.0,>=0.3.0->spacy<3.6.0,>=3.5.0->en-core-web-md==3.5.0) (4.11.4)\n",
      "Installing collected packages: en-core-web-md\n",
      "Successfully installed en-core-web-md-3.5.0\n",
      "\u001b[33mWARNING: Running pip as the 'root' user can result in broken permissions and conflicting behaviour with the system package manager. It is recommended to use a virtual environment instead: https://pip.pypa.io/warnings/venv\u001b[0m\u001b[33m\n",
      "\u001b[0m\u001b[38;5;2m✔ Download and installation successful\u001b[0m\n",
      "You can now load the package via spacy.load('en_core_web_md')\n"
     ]
    }
   ],
   "source": [
    "# run this from a normal command line\n",
    "!python -m spacy download en_core_web_md"
   ]
  },
  {
   "cell_type": "code",
   "execution_count": 12,
   "metadata": {
    "execution": {
     "iopub.execute_input": "2023-04-19T07:34:28.746756Z",
     "iopub.status.busy": "2023-04-19T07:34:28.745176Z",
     "iopub.status.idle": "2023-04-19T07:34:37.023535Z",
     "shell.execute_reply": "2023-04-19T07:34:37.022130Z",
     "shell.execute_reply.started": "2023-04-19T07:34:28.746690Z"
    }
   },
   "outputs": [],
   "source": [
    "import spacy\n",
    "from spacy.tokens import Doc\n",
    "nlp = spacy.load(\"en_core_web_md\")"
   ]
  },
  {
   "cell_type": "code",
   "execution_count": 13,
   "metadata": {
    "execution": {
     "iopub.execute_input": "2023-04-19T07:34:37.026033Z",
     "iopub.status.busy": "2023-04-19T07:34:37.025269Z",
     "iopub.status.idle": "2023-04-19T07:46:45.858484Z",
     "shell.execute_reply": "2023-04-19T07:46:45.856949Z",
     "shell.execute_reply.started": "2023-04-19T07:34:37.025990Z"
    }
   },
   "outputs": [
    {
     "name": "stdout",
     "output_type": "stream",
     "text": [
      "CPU times: user 12min 6s, sys: 2.17 s, total: 12min 8s\n",
      "Wall time: 12min 8s\n"
     ]
    }
   ],
   "source": [
    "#tokenizing\n",
    "%time df['tokenized'] = df['request'][:103648].apply(nlp)"
   ]
  },
  {
   "cell_type": "code",
   "execution_count": 14,
   "metadata": {
    "execution": {
     "iopub.execute_input": "2023-04-19T07:46:45.860783Z",
     "iopub.status.busy": "2023-04-19T07:46:45.860359Z",
     "iopub.status.idle": "2023-04-19T07:46:48.467139Z",
     "shell.execute_reply": "2023-04-19T07:46:48.466118Z",
     "shell.execute_reply.started": "2023-04-19T07:46:45.860748Z"
    }
   },
   "outputs": [],
   "source": [
    "\n",
    "df['sent_vectors'] = df['tokenized'][:103648].apply(lambda x: x.vector)\n"
   ]
  },
  {
   "cell_type": "code",
   "execution_count": 15,
   "metadata": {
    "execution": {
     "iopub.execute_input": "2023-04-19T07:46:48.468604Z",
     "iopub.status.busy": "2023-04-19T07:46:48.468301Z",
     "iopub.status.idle": "2023-04-19T07:47:08.003316Z",
     "shell.execute_reply": "2023-04-19T07:47:08.002069Z",
     "shell.execute_reply.started": "2023-04-19T07:46:48.468574Z"
    }
   },
   "outputs": [],
   "source": [
    "vectors = df['sent_vectors'][:103648].apply(pd.Series).to_numpy()"
   ]
  },
  {
   "cell_type": "code",
   "execution_count": 16,
   "metadata": {
    "execution": {
     "iopub.execute_input": "2023-04-19T07:47:08.005692Z",
     "iopub.status.busy": "2023-04-19T07:47:08.004820Z",
     "iopub.status.idle": "2023-04-19T07:47:08.013208Z",
     "shell.execute_reply": "2023-04-19T07:47:08.012062Z",
     "shell.execute_reply.started": "2023-04-19T07:47:08.005652Z"
    }
   },
   "outputs": [
    {
     "data": {
      "text/plain": [
       "(103648, 300)"
      ]
     },
     "execution_count": 16,
     "metadata": {},
     "output_type": "execute_result"
    }
   ],
   "source": [
    "vectors.shape"
   ]
  },
  {
   "cell_type": "code",
   "execution_count": 18,
   "metadata": {
    "execution": {
     "iopub.execute_input": "2023-04-19T07:47:12.317850Z",
     "iopub.status.busy": "2023-04-19T07:47:12.317460Z",
     "iopub.status.idle": "2023-04-19T07:47:12.439742Z",
     "shell.execute_reply": "2023-04-19T07:47:12.438786Z",
     "shell.execute_reply.started": "2023-04-19T07:47:12.317816Z"
    }
   },
   "outputs": [],
   "source": [
    "import numpy as np\n",
    "with open('vector.npy', 'wb') as f:\n",
    "    np.save(f, vectors)"
   ]
  },
  {
   "cell_type": "code",
   "execution_count": 20,
   "metadata": {
    "execution": {
     "iopub.execute_input": "2023-04-19T07:48:05.837714Z",
     "iopub.status.busy": "2023-04-19T07:48:05.837199Z",
     "iopub.status.idle": "2023-04-19T07:48:15.779467Z",
     "shell.execute_reply": "2023-04-19T07:48:15.778275Z",
     "shell.execute_reply.started": "2023-04-19T07:48:05.837671Z"
    }
   },
   "outputs": [
    {
     "data": {
      "text/plain": [
       "array([2, 0, 0, ..., 0, 0, 0], dtype=int32)"
      ]
     },
     "execution_count": 20,
     "metadata": {},
     "output_type": "execute_result"
    }
   ],
   "source": [
    "from sklearn.cluster import KMeans\n",
    "k = 18\n",
    "kmeans = KMeans(k)\n",
    "kmeans.fit(vectors)\n",
    "kmeans.predict(vectors)"
   ]
  },
  {
   "cell_type": "code",
   "execution_count": 25,
   "metadata": {
    "execution": {
     "iopub.execute_input": "2023-04-19T07:58:19.238685Z",
     "iopub.status.busy": "2023-04-19T07:58:19.238075Z",
     "iopub.status.idle": "2023-04-19T08:04:13.557590Z",
     "shell.execute_reply": "2023-04-19T08:04:13.556391Z",
     "shell.execute_reply.started": "2023-04-19T07:58:19.238633Z"
    }
   },
   "outputs": [
    {
     "data": {
      "image/png": "[encoded data removed]",
      "text/plain": [
       "<Figure size 640x480 with 1 Axes>"
      ]
     },
     "metadata": {},
     "output_type": "display_data"
    }
   ],
   "source": [
    "#elbow method\n",
    "import pandas as pd\n",
    "import matplotlib.pyplot as plt\n",
    "import seaborn as sns\n",
    "import sklearn\n",
    "from sklearn.cluster import KMeans\n",
    "from sklearn.metrics import silhouette_score\n",
    "\n",
    "Sum_of_squared_distances = []\n",
    "K = range(1,20)\n",
    "for num_clusters in K :\n",
    "    kmeans = KMeans(n_clusters=num_clusters)\n",
    "    kmeans.fit(vectors)\n",
    "    Sum_of_squared_distances.append(kmeans.inertia_)\n",
    "plt.plot(K,Sum_of_squared_distances,'bx-')\n",
    "plt.xlabel('Values of K') \n",
    "plt.ylabel('‘Sum of squared distances/Inertia’') \n",
    "plt.title('‘Elbow Method For Optimal k’')\n",
    "plt.show()"
   ]
  },
  {
   "cell_type": "code",
   "execution_count": 29,
   "metadata": {
    "execution": {
     "iopub.execute_input": "2023-04-19T08:14:43.235810Z",
     "iopub.status.busy": "2023-04-19T08:14:43.235397Z",
     "iopub.status.idle": "2023-04-19T09:07:10.227133Z",
     "shell.execute_reply": "2023-04-19T09:07:10.225431Z",
     "shell.execute_reply.started": "2023-04-19T08:14:43.235776Z"
    }
   },
   "outputs": [
    {
     "data": {
      "image/png": "[encoded data removed]",
      "text/plain": [
       "<Figure size 640x480 with 1 Axes>"
      ]
     },
     "metadata": {},
     "output_type": "display_data"
    }
   ],
   "source": [
    "#silhoutte method\n",
    "silhouette_avg = []\n",
    "K = range(2,20,2)\n",
    "for num_clusters in K :\n",
    "    kmeans = KMeans(n_clusters=num_clusters)\n",
    "    kmeans.fit(vectors)\n",
    "    cluster_labels = kmeans.labels_\n",
    "#     print(cluster_labels)\n",
    "    silhouette_avg.append(silhouette_score(vectors, cluster_labels))\n",
    "plt.plot(K,silhouette_avg,'bx-')\n",
    "plt.xlabel('Values of K') \n",
    "plt.ylabel('silhouette_avg') \n",
    "plt.title('silhouette_avg Method For Optimal k')\n",
    "plt.show()"
   ]
  }
 ],
 "metadata": {
  "kernelspec": {
   "display_name": "Python 3",
   "language": "python",
   "name": "python3"
  },
  "language_info": {
   "codemirror_mode": {
    "name": "ipython",
    "version": 3
   },
   "file_extension": ".py",
   "mimetype": "text/x-python",
   "name": "python",
   "nbconvert_exporter": "python",
   "pygments_lexer": "ipython3",
   "version": "3.7.6"
  }
 },
 "nbformat": 4,
 "nbformat_minor": 4
}
